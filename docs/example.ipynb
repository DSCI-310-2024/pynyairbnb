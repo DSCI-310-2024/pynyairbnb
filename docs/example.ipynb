{
    "cells": [
        {
            "cell_type": "markdown",
            "metadata": {},
            "source": [
                "# Example usage\n",
                "\n",
                "Here we will demonstrate how to use `pynyairbnb` to run an analysis on New York Airbnb Data"
            ]
        },
        {
            "cell_type": "code",
            "execution_count": 3,
            "metadata": {},
            "outputs": [],
            "source": [
                "# import pynyairbnb\n",
                "# from pynyairbnb.data_preprocessing import create_dir_if_not_exists, read_data, convert_missing_values, split_data,save_dataframes, add_price_category, data_preprocessing\n",
                "# from pynyairbnb.plotting import rank_correlations, sns_plotting, plot_pynyairbnb\n",
                "# from pynyairbnb.pynyairbnb import build_clf_model, knn_param_optimization, nyairbnb_analysis"
            ]
        },
        {
            "cell_type": "code",
            "execution_count": 5,
            "metadata": {},
            "outputs": [
                {
                    "ename": "ModuleNotFoundError",
                    "evalue": "No module named 'pynyairbnb'",
                    "output_type": "error",
                    "traceback": [
                        "\u001b[0;31m---------------------------------------------------------------------------\u001b[0m",
                        "\u001b[0;31mModuleNotFoundError\u001b[0m                       Traceback (most recent call last)",
                        "Cell \u001b[0;32mIn[5], line 1\u001b[0m\n\u001b[0;32m----> 1\u001b[0m \u001b[38;5;28;01mimport\u001b[39;00m \u001b[38;5;21;01mpynyairbnb\u001b[39;00m\n\u001b[1;32m      3\u001b[0m \u001b[38;5;28mprint\u001b[39m(pynyairbnb\u001b[38;5;241m.\u001b[39m__version__)\n",
                        "\u001b[0;31mModuleNotFoundError\u001b[0m: No module named 'pynyairbnb'"
                    ]
                }
            ],
            "source": [
                "import pynyairbnb\n",
                "\n",
                "print(pynyairbnb.__version__)"
            ]
        },
        {
            "cell_type": "code",
            "execution_count": null,
            "metadata": {},
            "outputs": [],
            "source": []
        }
    ],
    "metadata": {
        "kernelspec": {
            "display_name": "Python 3",
            "language": "python",
            "name": "python3"
        },
        "language_info": {
            "codemirror_mode": {
                "name": "ipython",
                "version": 3
            },
            "file_extension": ".py",
            "mimetype": "text/x-python",
            "name": "python",
            "nbconvert_exporter": "python",
            "pygments_lexer": "ipython3",
            "version": "3.11.8"
        }
    },
    "nbformat": 4,
    "nbformat_minor": 4
}

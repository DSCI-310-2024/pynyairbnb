{
 "cells": [
  {
   "cell_type": "markdown",
   "metadata": {},
   "source": [
    "# Example usage\n",
    "\n",
    "Here we will demonstrate how to use `pynyairbnb` to run an analysis on New York Airbnb Data"
   ]
  },
  {
   "cell_type": "code",
   "execution_count": 1,
   "metadata": {},
   "outputs": [],
   "source": [
    "import pynyairbnb\n",
    "from pynyairbnb.data_preprocessing import create_dir_if_not_exists, read_data, convert_missing_values, split_data,save_dataframes, add_price_category, data_preprocessing\n",
    "from pynyairbnb.plotting import rank_correlations, sns_plotting, plot_pynyairbnb\n",
    "from pynyairbnb.pynyairbnb import build_clf_model, knn_param_optimization, nyairbnb_analysis"
   ]
  },
  {
   "cell_type": "code",
   "execution_count": 2,
   "metadata": {},
   "outputs": [
    {
     "name": "stdout",
     "output_type": "stream",
     "text": [
      "0.1.0\n"
     ]
    }
   ],
   "source": [
    "import pynyairbnb\n",
    "\n",
    "print(pynyairbnb.__version__)"
   ]
  }
 ],
 "metadata": {
  "kernelspec": {
   "display_name": "Python 3 (ipykernel)",
   "language": "python",
   "name": "python3"
  },
  "language_info": {
   "codemirror_mode": {
    "name": "ipython",
    "version": 3
   },
   "file_extension": ".py",
   "mimetype": "text/x-python",
   "name": "python",
   "nbconvert_exporter": "python",
   "pygments_lexer": "ipython3",
   "version": "3.11.8"
  }
 },
 "nbformat": 4,
 "nbformat_minor": 4
}
